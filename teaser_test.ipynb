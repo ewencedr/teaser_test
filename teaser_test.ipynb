{
 "cells": [
  {
   "cell_type": "code",
   "execution_count": 1,
   "metadata": {},
   "outputs": [],
   "source": [
    "from teaser.project import Project\n",
    "import teaser.logic.utilities as utilities\n",
    "import os"
   ]
  },
  {
   "cell_type": "code",
   "execution_count": 2,
   "metadata": {},
   "outputs": [],
   "source": [
    "prj = Project()\n",
    "prj.name = \"ArchetypeExample\""
   ]
  },
  {
   "cell_type": "code",
   "execution_count": 3,
   "metadata": {},
   "outputs": [
    {
     "data": {
      "text/plain": [
       "<teaser.logic.archetypebuildings.bmvbs.custom.institute.Institute at 0x137d53c90>"
      ]
     },
     "execution_count": 3,
     "metadata": {},
     "output_type": "execute_result"
    }
   ],
   "source": [
    "prj.add_non_residential(\n",
    "    construction_data=\"iwu_heavy\",\n",
    "    geometry_data=\"bmvbs_office\",\n",
    "    name=\"OfficeBuilding\",\n",
    "    year_of_construction=1988,\n",
    "    number_of_floors=4,\n",
    "    height_of_floors=3.5,\n",
    "    net_leased_area=4500.0,\n",
    ")\n",
    "\n",
    "prj.add_non_residential(\n",
    "    construction_data=\"iwu_heavy\",\n",
    "    geometry_data=\"bmvbs_institute\",\n",
    "    name=\"InstituteBuilding\",\n",
    "    year_of_construction=1952,\n",
    "    number_of_floors=5,\n",
    "    height_of_floors=4.0,\n",
    "    net_leased_area=3400.0,\n",
    ")\n",
    "\n",
    "prj.add_non_residential(\n",
    "    construction_data=\"iwu_heavy\",\n",
    "    geometry_data=\"bmvbs_institute\",\n",
    "    name=\"InstituteBuildingMoisture\",\n",
    "    year_of_construction=1980,\n",
    "    number_of_floors=3,\n",
    "    height_of_floors=4.2,\n",
    "    net_leased_area=3600.0,\n",
    "    internal_gains_mode=3,\n",
    ")"
   ]
  },
  {
   "cell_type": "code",
   "execution_count": 4,
   "metadata": {},
   "outputs": [
    {
     "data": {
      "text/plain": [
       "<teaser.logic.archetypebuildings.tabula.de.multifamilyhouse.MultiFamilyHouse at 0x137b60550>"
      ]
     },
     "execution_count": 4,
     "metadata": {},
     "output_type": "execute_result"
    }
   ],
   "source": [
    "prj.add_residential(\n",
    "    construction_data=\"tabula_de_standard\",\n",
    "    geometry_data=\"tabula_de_single_family_house\",\n",
    "    name=\"ResidentialBuildingTabula\",\n",
    "    year_of_construction=1988,\n",
    "    number_of_floors=3,\n",
    "    height_of_floors=3.2,\n",
    "    net_leased_area=280.0,\n",
    ")\n",
    "\n",
    "prj.add_residential(\n",
    "    construction_data=\"tabula_de_retrofit\",\n",
    "    geometry_data=\"tabula_de_multi_family_house\",\n",
    "    name=\"ResidentialBuildingTabulaMulti\",\n",
    "    year_of_construction=1960,\n",
    "    number_of_floors=4,\n",
    "    height_of_floors=3.2,\n",
    "    net_leased_area=600.0,\n",
    ")"
   ]
  },
  {
   "cell_type": "code",
   "execution_count": 5,
   "metadata": {},
   "outputs": [
    {
     "name": "stdout",
     "output_type": "stream",
     "text": [
      "/Users/cedricewen/Code/teaser_test\n"
     ]
    }
   ],
   "source": [
    "prj.dir_reference_results = utilities.get_full_path(\n",
    "    os.path.join(\"examples\", \"examplefiles\", \"ReferenceResults\", \"Dymola\")\n",
    ")\n",
    "prj.dir_reference_results = os.path.abspath(os.path.dirname(os.path.realpath('__file__')))\n",
    "\n",
    "\n",
    "print(prj.dir_reference_results)\n",
    "\n",
    "prj.used_library_calc = \"AixLib\"\n",
    "prj.number_of_elements_calc = 2\n",
    "#prj.weather_file_path = utilities.get_full_path(\n",
    "#    os.path.join(\n",
    "#        \"data\",\n",
    "#        \"input\",\n",
    "#        \"inputdata\",\n",
    "#        \"weatherdata\",\n",
    "#        \"DEU_BW_Mannheim_107290_TRY2010_12_Jahr_BBSR.mos\",\n",
    "#    )\n",
    "#)"
   ]
  },
  {
   "cell_type": "code",
   "execution_count": 6,
   "metadata": {},
   "outputs": [],
   "source": [
    "prj.calc_all_buildings()"
   ]
  },
  {
   "cell_type": "code",
   "execution_count": 7,
   "metadata": {},
   "outputs": [
    {
     "name": "stdout",
     "output_type": "stream",
     "text": [
      "Exports can be found here:\n",
      "/Users/cedricewen/Code/teaser_test/ArchetypeExample\n"
     ]
    }
   ],
   "source": [
    "export_vars = {\n",
    "    \"HeatingDemands\": [\"*multizone.PHeater*\", \"*multizone.PHeatAHU\"],\n",
    "    \"CoolingDemands\": [\"*multizone.PCooler*\", \"*multizone.PCoolAHU\"],\n",
    "    \"Temperatures\": [\"*multizone.TAir*\", \"*multizone.TRad*\"],\n",
    "}\n",
    "\n",
    "path = prj.export_aixlib(\n",
    "    internal_id=None, path=prj.dir_reference_results, report=True, export_vars=export_vars\n",
    ")"
   ]
  }
 ],
 "metadata": {
  "kernelspec": {
   "display_name": "hydronic_balancing",
   "language": "python",
   "name": "python3"
  },
  "language_info": {
   "codemirror_mode": {
    "name": "ipython",
    "version": 3
   },
   "file_extension": ".py",
   "mimetype": "text/x-python",
   "name": "python",
   "nbconvert_exporter": "python",
   "pygments_lexer": "ipython3",
   "version": "3.11.8"
  }
 },
 "nbformat": 4,
 "nbformat_minor": 2
}
